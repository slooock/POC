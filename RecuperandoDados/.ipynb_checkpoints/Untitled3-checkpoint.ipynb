{
 "cells": [
  {
   "cell_type": "code",
   "execution_count": 1,
   "metadata": {},
   "outputs": [
    {
     "ename": "ModuleNotFoundError",
     "evalue": "No module named 'fake_useragent'",
     "output_type": "error",
     "traceback": [
      "\u001b[0;31m---------------------------------------------------------------------------\u001b[0m",
      "\u001b[0;31mModuleNotFoundError\u001b[0m                       Traceback (most recent call last)",
      "\u001b[0;32m<ipython-input-1-b79e83f20423>\u001b[0m in \u001b[0;36m<module>\u001b[0;34m\u001b[0m\n\u001b[1;32m      7\u001b[0m \u001b[0;32mimport\u001b[0m \u001b[0mnumpy\u001b[0m \u001b[0;32mas\u001b[0m \u001b[0mnp\u001b[0m\u001b[0;34m\u001b[0m\u001b[0;34m\u001b[0m\u001b[0m\n\u001b[1;32m      8\u001b[0m \u001b[0;32mimport\u001b[0m \u001b[0mpandas\u001b[0m \u001b[0;32mas\u001b[0m \u001b[0mpd\u001b[0m\u001b[0;34m\u001b[0m\u001b[0;34m\u001b[0m\u001b[0m\n\u001b[0;32m----> 9\u001b[0;31m \u001b[0;32mfrom\u001b[0m \u001b[0mfake_useragent\u001b[0m \u001b[0;32mimport\u001b[0m \u001b[0mUserAgent\u001b[0m\u001b[0;34m\u001b[0m\u001b[0;34m\u001b[0m\u001b[0m\n\u001b[0m\u001b[1;32m     10\u001b[0m \u001b[0mua\u001b[0m \u001b[0;34m=\u001b[0m \u001b[0mUserAgent\u001b[0m\u001b[0;34m(\u001b[0m\u001b[0;34m)\u001b[0m\u001b[0;34m\u001b[0m\u001b[0;34m\u001b[0m\u001b[0m\n",
      "\u001b[0;31mModuleNotFoundError\u001b[0m: No module named 'fake_useragent'"
     ]
    }
   ],
   "source": [
    "import json\n",
    "import requests\n",
    "import pymysql.cursors\n",
    "from datetime import datetime\n",
    "import sys\n",
    "import time\n",
    "import numpy as np\n",
    "import pandas as pd\n",
    "from fake_useragent import UserAgent\n",
    "ua = UserAgent()"
   ]
  },
  {
   "cell_type": "code",
   "execution_count": null,
   "metadata": {},
   "outputs": [],
   "source": [
    "def conectaBanco():\n",
    "\tcon = pymysql.connect(host = '127.0.0.1',\n",
    "                      \t      user = 'root',\n",
    "                              passwd='root',\n",
    "                              db = 'Prefeitura',\n",
    "\t\t\t\t\t\t\t  use_unicode=True,\n",
    "\t\t\t\t\t\t\t  charset=\"utf8\",\n",
    "                              cursorclass=pymysql.cursors.DictCursor)\n",
    "\treturn con"
   ]
  },
  {
   "cell_type": "code",
   "execution_count": null,
   "metadata": {},
   "outputs": [],
   "source": [
    "def limpaDadosBanco(nomeTabela):\n",
    "\tcon = conectaBanco()\n",
    "\tcursor = con.cursor()\n",
    "\n",
    "\tsqlquery = \"SET FOREIGN_KEY_CHECKS = 0;\"\n",
    "\tcursor.execute(sqlquery)\n",
    "\tcon.commit()\n",
    "\n",
    "\tsqlquery = \"TRUNCATE \"+nomeTabela+\";\"\n",
    "\tcursor.execute(sqlquery)\n",
    "\tcon.commit()\n",
    "\tprint(\"DADOS DA TABELA \"+nomeTabela+\" EXCLUIDOS\")\n",
    "\tcon.close()"
   ]
  },
  {
   "cell_type": "code",
   "execution_count": null,
   "metadata": {},
   "outputs": [],
   "source": [
    "def salvaCidadeJson():\n",
    "    #recupera cidades da api do IBGE\n",
    "    link = \"https://servicodados.ibge.gov.br/api/v1/localidades/municipios\"\n",
    "    header = {'User-Agent':str(ua.chrome)}\n",
    "    cidades = []\n",
    "\n",
    "    marcador = True\n",
    "    while(marcador):\n",
    "        marcador = False\n",
    "        try:\n",
    "            r = requests.get(link,headers = header)\n",
    "            if r.status_code == 200:\n",
    "\n",
    "                reddit_data = json.loads(r.content)\n",
    "\n",
    "                #Salva as cidades recuperadas em um arquivo cidades.json\n",
    "                with open('src/cidades/cidades.json', 'w') as json_file:  \n",
    "                    json.dump(reddit_data, json_file)\n",
    "\n",
    "            else:\n",
    "                print(\"\")\n",
    "                print(\"= HTTP Error 503. The service is unavailable. =\")\n",
    "        except requests.ConnectionError:\n",
    "            print('Sem conexao com internet, aguardando conexao')\n",
    "            marcador = True"
   ]
  },
  {
   "cell_type": "code",
   "execution_count": null,
   "metadata": {},
   "outputs": [],
   "source": [
    "def lerCidadesJson():\n",
    "    # lemos o JSON em disco\n",
    "    conteudo = open('src/cidades/cidades.json').read()\n",
    "    cidades = []\n",
    "    listajson = json.loads(conteudo)\n",
    "\n",
    "    for cidade in listajson:\n",
    "        cidades.append([cidade['id'],cidade['nome']])\n",
    "    return cidades"
   ]
  },
  {
   "cell_type": "code",
   "execution_count": null,
   "metadata": {},
   "outputs": [],
   "source": [
    "def salvaPesquisaJson():\n",
    "    link = \"https://servicodados.ibge.gov.br/api/v1/pesquisas/\"\n",
    "    header = {'User-Agent':str(ua.chrome)}\n",
    "\n",
    "    marcador = True\n",
    "    while(marcador):\n",
    "        marcador = False\n",
    "        try:\n",
    "            r = requests.get(link,headers=header)\n",
    "            if r.status_code == 200:\n",
    "\n",
    "                reddit_data = json.loads(r.content)\n",
    "\n",
    "                with open('src/pesquisas/pesquisas.json', 'w') as json_file:  \n",
    "                    json.dump(reddit_data, json_file)\n",
    "\n",
    "            else:\n",
    "                print(idPesquisa)\n",
    "                print(\"= HTTP Error 503. The service is unavailable. =\")\n",
    "        except requests.ConnectionError:\n",
    "            print('Sem conexao com internet, aguardando conexao')\n",
    "            marcador = True"
   ]
  },
  {
   "cell_type": "code",
   "execution_count": null,
   "metadata": {},
   "outputs": [],
   "source": [
    "def lerPesquisasJson():\n",
    "    # lemos o JSON em disco\n",
    "    conteudo = open('src/pesquisas/pesquisas.json').read()\n",
    "    pesquisas = []\n",
    "    listajson = json.loads(conteudo)\n",
    "\n",
    "    for pesquisa in listajson:\n",
    "        pesquisas.append([pesquisa['id'],pesquisa['nome']])\n",
    "    return pesquisas"
   ]
  },
  {
   "cell_type": "code",
   "execution_count": null,
   "metadata": {},
   "outputs": [],
   "source": [
    "def inserePesquisasBanco(pesquisas):\n",
    "    con = conectaBanco()\n",
    "    for pesquisa in pesquisas:\n",
    "        try:\n",
    "            pesquisa[1] = pesquisa[1].replace(\"'\",\"\\\\'\")\n",
    "            sql = \"INSERT INTO pesquisa (idpesquisa,nome) values (\"+str(pesquisa[0])+\",'\"+str(pesquisa[1])+\"')\"\n",
    "    #         print(sql)\n",
    "            cursor = con.cursor()\n",
    "            cursor.execute(sql)\n",
    "            con.commit()\n",
    "        except pymysql.IntegrityError as e:\n",
    "            print(str(e))\n",
    "    con.close()"
   ]
  },
  {
   "cell_type": "code",
   "execution_count": null,
   "metadata": {},
   "outputs": [],
   "source": [
    "def salvaIndicadoresJson(pesquisas):\n",
    "    for pesquisa in pesquisas:\n",
    "        link = \"https://servicodados.ibge.gov.br/api/v1/pesquisas/\"+str(pesquisa[0])+\"/indicadores\"\n",
    "        header = {'User-Agent':str(ua.chrome)}\n",
    "\n",
    "        marcador = True\n",
    "        while(marcador):\n",
    "            marcador = False\n",
    "            try:\n",
    "                r = requests.get(link,headers=header)\n",
    "                if r.status_code == 200:\n",
    "\n",
    "                    reddit_data = json.loads(r.content)\n",
    "\n",
    "\n",
    "                    with open('src/pesquisas/indicadores/'+str(pesquisa[0])+'.json', 'w') as json_file:  \n",
    "                        json.dump(reddit_data, json_file)\n",
    "\n",
    "            except requests.ConnectionError:\n",
    "                print('Sem conexao com internet, aguardando conexao')\n",
    "                marcador = True"
   ]
  },
  {
   "cell_type": "code",
   "execution_count": null,
   "metadata": {},
   "outputs": [],
   "source": [
    "def lerIndicadoresFilhos(listajson,indicadores):\n",
    "    for indicador in listajson:\n",
    "        indicadores.append([indicador['id'],indicador['indicador']])\n",
    "        if(len(indicador['children'])>0):\n",
    "            lerIndicadoresFilhos(indicador['children'],indicadores)"
   ]
  },
  {
   "cell_type": "code",
   "execution_count": null,
   "metadata": {},
   "outputs": [],
   "source": [
    "def lerIndicadoresJson(pesquisas):\n",
    "    indicadores = []\n",
    "    for pesquisa in pesquisas:\n",
    "        try:\n",
    "            conteudo = open('src/pesquisas/indicadores/'+str(pesquisa[0])+'.json').read()\n",
    "            listajson = json.loads(conteudo)\n",
    "\n",
    "            lerIndicadoresFilhos(listajson,indicadores)\n",
    "        except FileNotFoundError:\n",
    "            print('A pesquisa '+str(pesquisa[0])+' nao possui indicadores')\n",
    "    return indicadores"
   ]
  },
  {
   "cell_type": "code",
   "execution_count": null,
   "metadata": {},
   "outputs": [],
   "source": [
    "def insereIndicadoresBanco(indicadores):\n",
    "    con = conectaBanco()\n",
    "    for indicador in indicadores:\n",
    "        try:\n",
    "            indicador[1] = indicador[1].replace(\"'\",\"\\\\'\")\n",
    "            sql = \"INSERT INTO indicador (idindicador,indicador) values (\"+str(indicador[0])+\",'\"+str(indicador[1])+\"')\"\n",
    "    #         print(sql)\n",
    "            cursor = con.cursor()\n",
    "            cursor.execute(sql)\n",
    "            con.commit()\n",
    "        except pymysql.IntegrityError as e:\n",
    "            print(str(e))\n",
    "    con.close()"
   ]
  },
  {
   "cell_type": "code",
   "execution_count": null,
   "metadata": {},
   "outputs": [],
   "source": [
    "def retornaIndicadoresASeremPesquisados():\n",
    "    return open('src/pesquisas/indicadores/indicadores.txt').read()"
   ]
  },
  {
   "cell_type": "code",
   "execution_count": null,
   "metadata": {},
   "outputs": [],
   "source": [
    "def salvaHistoricoJson(codIBGE,indicaodres):\n",
    "#     codIBGE = 314710\n",
    "    link = \"https://servicodados.ibge.gov.br/api/v1/pesquisas/indicadores/\"+indicadores+\"/resultados/\"+str(codIBGE)\n",
    "\n",
    "    header = {'User-Agent':str(ua.chrome)}\n",
    "    contador = 0\n",
    "    metricas = []\n",
    "\n",
    "    r = requests.get(link,headers = header)\n",
    "    if r.status_code == 200:\n",
    "        reddit_data = json.loads(r.content)\n",
    "\n",
    "         #Salva as cidades recuperadas em um arquivo cidades.json\n",
    "        with open('src/historico/'+str(codIBGE)+'.json', 'w') as json_file:  \n",
    "            json.dump(reddit_data, json_file)\n",
    "\n",
    "    else:\n",
    "        print(r.status_code)\n",
    "        print(\"= HTTP Error 503. The service is unavailable. =\")"
   ]
  },
  {
   "cell_type": "code",
   "execution_count": null,
   "metadata": {},
   "outputs": [],
   "source": [
    "def salvaHistoricoParaCidadesJson(cidades,indicadores):\n",
    "    for cidade in cidades:\n",
    "        marcador = True\n",
    "        while(marcador):\n",
    "            marcador = False\n",
    "            try:\n",
    "                salvaHistoricoJson(cidade[0],indicadores)\n",
    "            except:\n",
    "                print(cidade)\n",
    "                marcador = True"
   ]
  },
  {
   "cell_type": "code",
   "execution_count": null,
   "metadata": {},
   "outputs": [],
   "source": [
    "def lerHistoricoJson(cidades):\n",
    "    historico = []\n",
    "\n",
    "    for cidade in cidades:\n",
    "        conteudo = open('src/historico/'+str(cidade[0])+'.json').read()\n",
    "        listajson = json.loads(conteudo)\n",
    "        for pesq in listajson:    \n",
    "            for item in pesq['res'][0]['res']:\n",
    "                historico.append([cidade[0],pesq['id'],item,pesq['res'][0]['res'][item]])\n",
    "    return historico"
   ]
  },
  {
   "cell_type": "code",
   "execution_count": null,
   "metadata": {},
   "outputs": [],
   "source": [
    "def insereHistoricoBanco(historico):\n",
    "    con = conectaBanco()\n",
    "    for pesq in historico:\n",
    "        try:\n",
    "            pesq[3] = pesq[3].replace(\"'\",\"\\\\'\")\n",
    "            sql = \"INSERT INTO historico (idcidade,idindicador,ano,valor) values (\"+str(pesq[0])+\",\"+str(pesq[1])+\",\"+str(pesq[2])+\",'\"+str(pesq[3])+\"')\"\n",
    "    #         print(sql)\n",
    "            cursor = con.cursor()\n",
    "            cursor.execute(sql)\n",
    "            con.commit()\n",
    "        except pymysql.IntegrityError as e:\n",
    "            print(str(e))\n",
    "    con.close()"
   ]
  },
  {
   "cell_type": "markdown",
   "metadata": {},
   "source": [
    "## Main"
   ]
  },
  {
   "cell_type": "markdown",
   "metadata": {},
   "source": [
    "## Cidades\n",
    "* Recuperando cidades salvando num json\n",
    "* Lendo json salvando cidades num vetor\n",
    "* Adicionando cidades no banco"
   ]
  },
  {
   "cell_type": "code",
   "execution_count": 24,
   "metadata": {},
   "outputs": [],
   "source": [
    "limpaDadosBanco('cidade')\n",
    "limpaDadosBanco('pesquisa')\n",
    "limpaDadosBanco('indicador')\n",
    "salvaCidadeJson()\n",
    "cidades = lerCidadesJson()\n",
    "insereCidadesBanco(cidades)"
   ]
  },
  {
   "cell_type": "markdown",
   "metadata": {},
   "source": [
    "## Pesquisas\n",
    "* Recuperando pesquisas salvando num json\n",
    "* Lendo json salvando pesquisas num vetor\n",
    "* Adicionando pesquisas no banco"
   ]
  },
  {
   "cell_type": "code",
   "execution_count": 19,
   "metadata": {},
   "outputs": [],
   "source": [
    "salvaPesquisaJson()\n",
    "pesquisas = lerPesquisasJson()\n",
    "inserePesquisasBanco(pesquisas)"
   ]
  },
  {
   "cell_type": "markdown",
   "metadata": {},
   "source": [
    "## Indicadores\n",
    "* Recuperando indicadoress salvando num json\n",
    "* Lendo json salvando indicadores num vetor\n",
    "* Adicionando indicadores no banco"
   ]
  },
  {
   "cell_type": "code",
   "execution_count": 20,
   "metadata": {},
   "outputs": [
    {
     "name": "stdout",
     "output_type": "stream",
     "text": [
      "A pesquisa 1 nao possui indicadores\n",
      "A pesquisa 24 nao possui indicadores\n",
      "A pesquisa 45 nao possui indicadores\n",
      "A pesquisa 10072 nao possui indicadores\n",
      "A pesquisa 10079 nao possui indicadores\n",
      "A pesquisa 10085 nao possui indicadores\n"
     ]
    }
   ],
   "source": [
    "salvaIndicadoresJson(pesquisas)\n",
    "indicadores = lerIndicadoresJson(pesquisas)\n",
    "insereIndicadoresBanco(indicadores)"
   ]
  },
  {
   "cell_type": "markdown",
   "metadata": {},
   "source": [
    "## Histórico\n",
    "* Recuperando indicadoress a serem pesquisados do banco (Os indicadores a serem pesquisados estão em src/pesquisa/indicadores/indicarores.txt)\n",
    "* Recuperando historico e salvando num json em src/historico (o nome de cada json sera o id de cada cidade)\n",
    "* Lendo json dos historicos e salvando em um vetor\n",
    "* Adicionando o historico no banco"
   ]
  },
  {
   "cell_type": "code",
   "execution_count": 35,
   "metadata": {},
   "outputs": [],
   "source": [
    "indicadoresASeremPesquisados = retornaIndicadoresASeremPesquisados()\n",
    "salvaHistoricoParaCidadesJson(cidades,indicadoresASeremPesquisados)\n",
    "historico = lerHistoricoJson(cidades)\n",
    "insereHistoricoBanco(historico)"
   ]
  }
 ],
 "metadata": {
  "kernelspec": {
   "display_name": "Python 3",
   "language": "python",
   "name": "python3"
  },
  "language_info": {
   "codemirror_mode": {
    "name": "ipython",
    "version": 3
   },
   "file_extension": ".py",
   "mimetype": "text/x-python",
   "name": "python",
   "nbconvert_exporter": "python",
   "pygments_lexer": "ipython3",
   "version": "3.7.3"
  }
 },
 "nbformat": 4,
 "nbformat_minor": 2
}
