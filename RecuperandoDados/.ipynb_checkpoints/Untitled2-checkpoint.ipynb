{
 "cells": [
  {
   "cell_type": "code",
   "execution_count": 39,
   "metadata": {},
   "outputs": [],
   "source": [
    "import json\n",
    "import requests\n",
    "import pymysql.cursors\n",
    "from datetime import datetime\n",
    "import sys\n",
    "import time\n",
    "import numpy as np\n",
    "import pandas as pd\n",
    "from fake_useragent import UserAgent"
   ]
  },
  {
   "cell_type": "code",
   "execution_count": 40,
   "metadata": {},
   "outputs": [],
   "source": [
    "ua = UserAgent()"
   ]
  },
  {
   "cell_type": "code",
   "execution_count": 117,
   "metadata": {},
   "outputs": [],
   "source": [
    "def salvaCidadeJson():\n",
    "    #recupera cidades da api do IBGE\n",
    "    link = \"https://servicodados.ibge.gov.br/api/v1/localidades/municipios\"\n",
    "    cidades = []\n",
    "\n",
    "    r = requests.get(link)\n",
    "    if r.status_code == 200:\n",
    "\n",
    "        reddit_data = json.loads(r.content)\n",
    "\n",
    "        #Salva as cidades recuperadas em um arquivo cidades.json\n",
    "        with open('src/cidades/cidades.json', 'w') as json_file:  \n",
    "            json.dump(reddit_data, json_file)\n",
    "\n",
    "    else:\n",
    "        print(\"\")\n",
    "        print(\"= HTTP Error 503. The service is unavailable. =\")\n"
   ]
  },
  {
   "cell_type": "code",
   "execution_count": 119,
   "metadata": {},
   "outputs": [],
   "source": [
    "def salvaPesquisasJson(codIBGE):\n",
    "#     codIBGE = 314710\n",
    "    link = \"https://servicodados.ibge.gov.br/api/v1/pesquisas/indicadores/29169|29170|29171|25207|29168|29765|29763|60036|60037|60045|60041|60042|5908|5913|5929|5934|5950|5955|47001|60048|30255|28141|29749|30279|60032|28242|29167|60030|60029|60031/resultados/\"+str(codIBGE)\n",
    "\n",
    "    header = {'User-Agent':str(ua.chrome)}\n",
    "    contador = 0\n",
    "    metricas = []\n",
    "\n",
    "    r = requests.get(link,headers = header)\n",
    "    if r.status_code == 200:\n",
    "        reddit_data = json.loads(r.content)\n",
    "\n",
    "         #Salva as cidades recuperadas em um arquivo cidades.json\n",
    "        with open('src/pesquisas/'+str(codIBGE)+'.json', 'w') as json_file:  \n",
    "            json.dump(reddit_data, json_file)\n",
    "\n",
    "    else:\n",
    "        print(r.status_code)\n",
    "        print(\"= HTTP Error 503. The service is unavailable. =\")\n"
   ]
  },
  {
   "cell_type": "code",
   "execution_count": 120,
   "metadata": {},
   "outputs": [],
   "source": [
    "def retornaCidades():\n",
    "    # lemos o JSON em disco\n",
    "    conteudo = open('src/cidades/cidades.json').read()\n",
    "    cidades = []\n",
    "    listajson = json.loads(conteudo)\n",
    "\n",
    "    for cidade in listajson:\n",
    "        cidades.append([cidade['id'],cidade['nome']])\n",
    "    return cidades"
   ]
  },
  {
   "cell_type": "code",
   "execution_count": 207,
   "metadata": {},
   "outputs": [],
   "source": [
    "def salvaPesquisasJson():\n",
    "    #recupera pesquisas da api do IBGE\n",
    "    link = \"https://servicodados.ibge.gov.br/api/v1/pesquisas\"\n",
    "    cidades = []\n",
    "\n",
    "    r = requests.get(link)\n",
    "    if r.status_code == 200:\n",
    "\n",
    "        reddit_data = json.loads(r.content)\n",
    "\n",
    "\n",
    "        with open('src/pesquisas/pesquisas.json', 'w') as json_file:  \n",
    "            json.dump(reddit_data, json_file)\n",
    "\n",
    "    else:\n",
    "        print(\"\")\n",
    "        print(\"= HTTP Error 503. The service is unavailable. =\")"
   ]
  },
  {
   "cell_type": "code",
   "execution_count": 234,
   "metadata": {},
   "outputs": [],
   "source": [
    "def recuperaPesquisasJson():\n",
    "    # lemos o JSON em disco\n",
    "    conteudo = open('src/pesquisas/pesquisas.json').read()\n",
    "    pesquisas = []\n",
    "    listajson = json.loads(conteudo)\n",
    "\n",
    "    for pesquisa in listajson:\n",
    "        pesquisas.append([pesquisa['id'],pesquisa['nome']])\n",
    "    return pesquisas"
   ]
  },
  {
   "cell_type": "markdown",
   "metadata": {},
   "source": [
    "## main"
   ]
  },
  {
   "cell_type": "code",
   "execution_count": 238,
   "metadata": {},
   "outputs": [],
   "source": [
    "salvaPesquisasJson()\n",
    "pesquisas = recuperaPesquisasJson()"
   ]
  },
  {
   "cell_type": "code",
   "execution_count": 239,
   "metadata": {},
   "outputs": [
    {
     "data": {
      "text/plain": [
       "[[1, 'MUNIC - Perfil dos Municípios Brasileiros'],\n",
       " [11, 'SNIG - Pesquisa Nacional de Informação de Gênero'],\n",
       " [13, 'Censo escolar - sinopse'],\n",
       " [14, 'Produção Agrícola - Lavoura Temporária'],\n",
       " [15, 'Produção Agrícola - Lavoura Permanente'],\n",
       " [16, 'Extração vegetal e Silvicultura'],\n",
       " [17, 'Morbidade'],\n",
       " [18, 'Pecuária'],\n",
       " [19, 'Cadastro Central de Empresas'],\n",
       " [20, 'Registro civil'],\n",
       " [21, 'Finanças públicas'],\n",
       " [22, 'Frota de veículos'],\n",
       " [23, 'Censo'],\n",
       " [24, 'Censo Agropecuário'],\n",
       " [29, 'Instituições financeiras'],\n",
       " [30, 'Pesquisa nacional de saneamento básico'],\n",
       " [31, 'Produção agrícola - Cereais, leguminosas e oleaginosas'],\n",
       " [32, 'Serviços de saúde'],\n",
       " [33, 'Sinopse municipal'],\n",
       " [34, 'Pesquisa de serviços de hospedagem'],\n",
       " [35, 'Fundações privadas e associações sem fins lucrativos'],\n",
       " [36, 'Mapa de pobreza e desigualdade'],\n",
       " [37, 'Índice de Desenvolvimento Humano'],\n",
       " [38, 'Produto Interno Bruto dos Municípios'],\n",
       " [39, 'Taxa de mortalidade infantil'],\n",
       " [40, 'Índice de Desenvolvimento da Educação Básica'],\n",
       " [42, 'Notificações de dengue registradas'],\n",
       " [43, 'Censo - Séries históricas'],\n",
       " [44, 'PNAD - Pesquisa Nacional por Amostra de Domicílios'],\n",
       " [45, 'Síntese de Indicadores Sociais'],\n",
       " [46, 'POF - Pesquisa de Orçamentos Familiares'],\n",
       " [47, 'Pesquisa Nacional de Saúde'],\n",
       " [48, 'Sinopse estadual'],\n",
       " [49, 'Pesquisa Anual da Indústria da Construção'],\n",
       " [50, 'Pesquisa Anual de Comércio'],\n",
       " [51, 'Pesquisa Industrial Anual - Empresa'],\n",
       " [52, 'Pesquisa Anual de Serviços'],\n",
       " [53, 'Projeção da população'],\n",
       " [10053, 'Migrações'],\n",
       " [10054, 'Tábuas abreviadas de mortalidade por sexo e idade'],\n",
       " [10055, 'Indicadores sociodemográficos e de saúde no Brasil'],\n",
       " [10056, 'Pesquisa Nacional de Saúde do Escolar'],\n",
       " [10057,\n",
       "  'Relações entre as alterações históricas na dinâmica demográfica brasileira e impactos decorrentes do processo de envelhecimento da população'],\n",
       " [10058, 'Panorama municipal'],\n",
       " [10059, 'Sinopse Brasil'],\n",
       " [10060, 'Contas Regionais do Brasil'],\n",
       " [10061, 'Pesquisa Industrial Anual - Produto'],\n",
       " [10062, 'Estatísticas de empreendedorismo'],\n",
       " [10063, 'Demografia das empresas'],\n",
       " [10064, 'Pesquisa de inovação'],\n",
       " [10065, 'Panorama Brasil'],\n",
       " [10066, 'Entidades de assistência social privadas sem fins lucrativos'],\n",
       " [10070, 'PNADC - Pesquisa Nacional por Amostra de Domicílios Contínua'],\n",
       " [10071, 'Países'],\n",
       " [10072, 'ESTADIC - Perfil dos Estados Brasileiros'],\n",
       " [10073, 'Estatísticas de Gênero: indicadores sociais das mulheres no Brasil'],\n",
       " [10074, 'Contas Econômicas Ambientais da Água'],\n",
       " [10075, 'MUNIC - Suplemento Finanças públicas'],\n",
       " [10076, 'ESTADIC - Suplemento Esporte'],\n",
       " [10077, 'MUNIC - Suplemento Esporte'],\n",
       " [10078, 'MUNIC - Suplemento Meio Ambiente'],\n",
       " [10079, 'MUNIC - Suplemento Assistência Social'],\n",
       " [10080, 'ESTADIC - Suplemento Cultura'],\n",
       " [10081, 'ESTADIC - Suplemento Inclusão Produtiva'],\n",
       " [10082, 'ESTADIC - Suplemento Assistência Social'],\n",
       " [10083, 'Estatísticas de Finanças Públicas e Conta Intermediária de Governo'],\n",
       " [10084, 'MUNIC - Suplemento Inclusão Produtiva'],\n",
       " [10085, 'MUNIC - Suplemento Cultura'],\n",
       " [10086, 'Retroprojeção da população'],\n",
       " [10087,\n",
       "  'MUNIC - Suplemento  Aspectos gerais da gestão da política de saneamento básico'],\n",
       " [10088, 'Demografia das empresas e estatísticas de empreendedorismo'],\n",
       " [10089, 'Contas Nacionais do Brasil'],\n",
       " [10090, 'Países 2018']]"
      ]
     },
     "execution_count": 239,
     "metadata": {},
     "output_type": "execute_result"
    }
   ],
   "source": []
  }
 ],
 "metadata": {
  "kernelspec": {
   "display_name": "Python 3",
   "language": "python",
   "name": "python3"
  },
  "language_info": {
   "codemirror_mode": {
    "name": "ipython",
    "version": 3
   },
   "file_extension": ".py",
   "mimetype": "text/x-python",
   "name": "python",
   "nbconvert_exporter": "python",
   "pygments_lexer": "ipython3",
   "version": "3.7.2"
  }
 },
 "nbformat": 4,
 "nbformat_minor": 2
}
