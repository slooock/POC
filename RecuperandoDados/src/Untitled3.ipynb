{
 "cells": [
  {
   "cell_type": "code",
   "execution_count": 1,
   "metadata": {},
   "outputs": [],
   "source": [
    "import json\n",
    "import requests\n",
    "import pymysql.cursors\n",
    "from datetime import datetime\n",
    "import sys\n",
    "import time\n",
    "import numpy as np\n",
    "import pandas as pd\n",
    "from fake_useragent import UserAgent\n",
    "import time \n",
    "ua = UserAgent()"
   ]
  },
  {
   "cell_type": "code",
   "execution_count": 2,
   "metadata": {},
   "outputs": [],
   "source": [
    "def conectaBanco():\n",
    "\tcon = pymysql.connect(host = '127.0.0.1',\n",
    "                      \t      user = 'root',\n",
    "                              passwd='root',\n",
    "                              db = 'Prefeitura',\n",
    "\t\t\t\t\t\t\t  use_unicode=True,\n",
    "\t\t\t\t\t\t\t  charset=\"utf8\",\n",
    "                              cursorclass=pymysql.cursors.DictCursor)\n",
    "\treturn con"
   ]
  },
  {
   "cell_type": "code",
   "execution_count": 3,
   "metadata": {},
   "outputs": [],
   "source": [
    "def limpaDadosBanco(nomeTabela):\n",
    "\tcon = conectaBanco()\n",
    "\tcursor = con.cursor()\n",
    "\n",
    "\tsqlquery = \"SET FOREIGN_KEY_CHECKS = 0;\"\n",
    "\tcursor.execute(sqlquery)\n",
    "\tcon.commit()\n",
    "\n",
    "\tsqlquery = \"TRUNCATE \"+nomeTabela+\";\"\n",
    "\tcursor.execute(sqlquery)\n",
    "\tcon.commit()\n",
    "\tprint(\"DADOS DA TABELA \"+nomeTabela+\" EXCLUIDOS\")\n",
    "\tcon.close()"
   ]
  },
  {
   "cell_type": "code",
   "execution_count": 4,
   "metadata": {},
   "outputs": [],
   "source": [
    "def salvaCidadeJson():\n",
    "    #recupera cidades da api do IBGE\n",
    "    link = \"https://servicodados.ibge.gov.br/api/v1/localidades/municipios\"\n",
    "    header = {'User-Agent':str(ua.chrome)}\n",
    "    cidades = []\n",
    "\n",
    "    marcador = True\n",
    "    while(marcador):\n",
    "        marcador = False\n",
    "        try:\n",
    "            r = requests.get(link,headers = header)\n",
    "            if r.status_code == 200:\n",
    "\n",
    "                reddit_data = json.loads(r.content)\n",
    "\n",
    "                #Salva as cidades recuperadas em um arquivo cidades.json\n",
    "                with open('cidades/cidades.json', 'w') as json_file:  \n",
    "                    json.dump(reddit_data, json_file)\n",
    "\n",
    "            else:\n",
    "                print(\"\")\n",
    "                print(\"= HTTP Error 503. The service is unavailable. =\")\n",
    "        except requests.ConnectionError:\n",
    "            print('Sem conexao com internet, aguardando conexao')\n",
    "            marcador = True"
   ]
  },
  {
   "cell_type": "code",
   "execution_count": 5,
   "metadata": {},
   "outputs": [],
   "source": [
    "def lerCidadesJson():\n",
    "    # lemos o JSON em disco\n",
    "    conteudo = open('cidades/cidades.json').read()\n",
    "    cidades = []\n",
    "    listajson = json.loads(conteudo)\n",
    "\n",
    "    for cidade in listajson:\n",
    "        cidades.append([cidade['id'],cidade['nome']])\n",
    "    return cidades"
   ]
  },
  {
   "cell_type": "code",
   "execution_count": 6,
   "metadata": {},
   "outputs": [],
   "source": [
    "def insereCidadesBanco(cidades):\n",
    "    con = conectaBanco()\n",
    "    for cidade in cidades:\n",
    "        try:\n",
    "            cidade[1] = cidade[1].replace(\"'\",\"\\\\'\")\n",
    "            sql = \"INSERT INTO cidade (idCidade,nome) values (\"+str(cidade[0])+\",'\"+str(cidade[1])+\"')\"\n",
    "    #         print(sql)\n",
    "            cursor = con.cursor()\n",
    "            cursor.execute(sql)\n",
    "            con.commit()\n",
    "        except pymysql.IntegrityError as e:\n",
    "            print(str(e))\n",
    "    con.close()"
   ]
  },
  {
   "cell_type": "code",
   "execution_count": 7,
   "metadata": {},
   "outputs": [],
   "source": [
    "def salvaPesquisaJson():\n",
    "    link = \"https://servicodados.ibge.gov.br/api/v1/pesquisas/\"\n",
    "    header = {'User-Agent':str(ua.chrome)}\n",
    "\n",
    "    marcador = True\n",
    "    while(marcador):\n",
    "        marcador = False\n",
    "        try:\n",
    "            r = requests.get(link,headers=header)\n",
    "            if r.status_code == 200:\n",
    "\n",
    "                reddit_data = json.loads(r.content)\n",
    "\n",
    "                with open('pesquisas/pesquisas.json', 'w') as json_file:  \n",
    "                    json.dump(reddit_data, json_file)\n",
    "\n",
    "            else:\n",
    "                print(idPesquisa)\n",
    "                print(\"= HTTP Error 503. The service is unavailable. =\")\n",
    "        except requests.ConnectionError:\n",
    "            print('Sem conexao com internet, aguardando conexao')\n",
    "            marcador = True"
   ]
  },
  {
   "cell_type": "code",
   "execution_count": 8,
   "metadata": {},
   "outputs": [],
   "source": [
    "def lerPesquisasJson():\n",
    "    # lemos o JSON em disco\n",
    "    conteudo = open('pesquisas/pesquisas.json').read()\n",
    "    pesquisas = []\n",
    "    listajson = json.loads(conteudo)\n",
    "\n",
    "    for pesquisa in listajson:\n",
    "        pesquisas.append([pesquisa['id'],pesquisa['nome']])\n",
    "    return pesquisas"
   ]
  },
  {
   "cell_type": "code",
   "execution_count": 9,
   "metadata": {},
   "outputs": [],
   "source": [
    "def inserePesquisasBanco(pesquisas):\n",
    "    con = conectaBanco()\n",
    "    for pesquisa in pesquisas:\n",
    "        try:\n",
    "            pesquisa[1] = pesquisa[1].replace(\"'\",\"\\\\'\")\n",
    "            sql = \"INSERT INTO pesquisa (idpesquisa,nome) values (\"+str(pesquisa[0])+\",'\"+str(pesquisa[1])+\"')\"\n",
    "    #         print(sql)\n",
    "            cursor = con.cursor()\n",
    "            cursor.execute(sql)\n",
    "            con.commit()\n",
    "        except pymysql.IntegrityError as e:\n",
    "            print(str(e))\n",
    "    con.close()"
   ]
  },
  {
   "cell_type": "code",
   "execution_count": 10,
   "metadata": {},
   "outputs": [],
   "source": [
    "def salvaIndicadoresJson(pesquisas):\n",
    "    for pesquisa in pesquisas:\n",
    "        link = \"https://servicodados.ibge.gov.br/api/v1/pesquisas/\"+str(pesquisa[0])+\"/indicadores\"\n",
    "        header = {'User-Agent':str(ua.chrome)}\n",
    "\n",
    "        marcador = True\n",
    "        while(marcador):\n",
    "            marcador = False\n",
    "            try:\n",
    "                r = requests.get(link,headers=header)\n",
    "                if r.status_code == 200:\n",
    "\n",
    "                    reddit_data = json.loads(r.content)\n",
    "\n",
    "\n",
    "                    with open('pesquisas/indicadores/'+str(pesquisa[0])+'.json', 'w') as json_file:  \n",
    "                        json.dump(reddit_data, json_file)\n",
    "\n",
    "            except requests.ConnectionError:\n",
    "                print('Sem conexao com internet, aguardando conexao')\n",
    "                marcador = True"
   ]
  },
  {
   "cell_type": "code",
   "execution_count": 11,
   "metadata": {},
   "outputs": [],
   "source": [
    "def lerIndicadoresFilhos(listajson,indicadores):\n",
    "    for indicador in listajson:\n",
    "        indicadores.append([indicador['id'],indicador['indicador']])\n",
    "        if(len(indicador['children'])>0):\n",
    "            lerIndicadoresFilhos(indicador['children'],indicadores)"
   ]
  },
  {
   "cell_type": "code",
   "execution_count": 12,
   "metadata": {},
   "outputs": [],
   "source": [
    "def lerIndicadoresJson(pesquisas):\n",
    "    indicadores = []\n",
    "    for pesquisa in pesquisas:\n",
    "        try:\n",
    "            conteudo = open('pesquisas/indicadores/'+str(pesquisa[0])+'.json').read()\n",
    "            listajson = json.loads(conteudo)\n",
    "\n",
    "            lerIndicadoresFilhos(listajson,indicadores)\n",
    "        except FileNotFoundError:\n",
    "            print('A pesquisa '+str(pesquisa[0])+' nao possui indicadores')\n",
    "    return indicadores"
   ]
  },
  {
   "cell_type": "code",
   "execution_count": 13,
   "metadata": {},
   "outputs": [],
   "source": [
    "def insereIndicadoresBanco(indicadores):\n",
    "    con = conectaBanco()\n",
    "    for indicador in indicadores:\n",
    "        try:\n",
    "            indicador[1] = indicador[1].replace(\"'\",\"\\\\'\")\n",
    "            sql = \"INSERT INTO indicador (idindicador,indicador) values (\"+str(indicador[0])+\",'\"+str(indicador[1])+\"')\"\n",
    "    #         print(sql)\n",
    "            cursor = con.cursor()\n",
    "            cursor.execute(sql)\n",
    "            con.commit()\n",
    "        except pymysql.IntegrityError as e:\n",
    "            print(str(e))\n",
    "    con.close()"
   ]
  },
  {
   "cell_type": "code",
   "execution_count": 14,
   "metadata": {},
   "outputs": [],
   "source": [
    "def retornaIndicadoresASeremPesquisados():\n",
    "    return open('pesquisas/indicadores/indicadores.txt').read()"
   ]
  },
  {
   "cell_type": "code",
   "execution_count": 15,
   "metadata": {},
   "outputs": [],
   "source": [
    "def salvaHistoricoJson(codIBGE,indicadores):\n",
    "#     codIBGE = 314710\n",
    "    link = \"https://servicodados.ibge.gov.br/api/v1/pesquisas/indicadores/\"+indicadores+\"/resultados/\"+str(codIBGE)\n",
    "\n",
    "    header = {'User-Agent':str(ua.chrome)}\n",
    "    contador = 0\n",
    "    metricas = []\n",
    "\n",
    "    r = requests.get(link,headers = header)\n",
    "    if r.status_code == 200:\n",
    "        reddit_data = json.loads(r.content)\n",
    "\n",
    "         #Salva as cidades recuperadas em um arquivo cidades.json\n",
    "        with open('historico/'+str(codIBGE)+'.json', 'w') as json_file:  \n",
    "            json.dump(reddit_data, json_file)\n",
    "\n",
    "    else:\n",
    "        print(r.status_code)\n",
    "        print(\"= HTTP Error 503. The service is unavailable. =\")"
   ]
  },
  {
   "cell_type": "code",
   "execution_count": 16,
   "metadata": {},
   "outputs": [],
   "source": [
    "def salvaHistoricoParaCidadesJson(cidades,indicadores):\n",
    "    for cidade in cidades:\n",
    "        marcador = True\n",
    "        while(marcador):\n",
    "            marcador = False\n",
    "            try:\n",
    "                salvaHistoricoJson(cidade[0],indicadores)\n",
    "            except:\n",
    "                print(cidade)\n",
    "                marcador = True"
   ]
  },
  {
   "cell_type": "code",
   "execution_count": 17,
   "metadata": {},
   "outputs": [],
   "source": [
    "def lerHistoricoJson(cidades):\n",
    "    historico = []\n",
    "\n",
    "    for cidade in cidades:\n",
    "        conteudo = open('historico/'+str(cidade[0])+'.json').read()\n",
    "        listajson = json.loads(conteudo)\n",
    "        for pesq in listajson:    \n",
    "            for item in pesq['res'][0]['res']:\n",
    "                historico.append([cidade[0],pesq['id'],item,pesq['res'][0]['res'][item]])\n",
    "    return historico"
   ]
  },
  {
   "cell_type": "code",
   "execution_count": 18,
   "metadata": {},
   "outputs": [],
   "source": [
    "def insereHistoricoBanco(historico):\n",
    "    con = conectaBanco()\n",
    "    for pesq in historico:\n",
    "        try:\n",
    "            pesq[3] = pesq[3].replace(\"'\",\"\\\\'\")\n",
    "            sql = \"INSERT INTO historico (idcidade,idindicador,ano,valor) values (\"+str(pesq[0])+\",\"+str(pesq[1])+\",\"+str(pesq[2])+\",'\"+str(pesq[3])+\"')\"\n",
    "    #         print(sql)\n",
    "            cursor = con.cursor()\n",
    "            cursor.execute(sql)\n",
    "            con.commit()\n",
    "        except pymysql.IntegrityError as e:\n",
    "            print(str(e))\n",
    "    con.close()"
   ]
  },
  {
   "cell_type": "markdown",
   "metadata": {},
   "source": [
    "## Main"
   ]
  },
  {
   "cell_type": "markdown",
   "metadata": {},
   "source": [
    "## Cidades\n",
    "* Recuperando cidades salvando num json\n",
    "* Lendo json salvando cidades num vetor\n",
    "* Adicionando cidades no banco"
   ]
  },
  {
   "cell_type": "code",
   "execution_count": 19,
   "metadata": {},
   "outputs": [],
   "source": [
    "inicioTime = time.time()"
   ]
  },
  {
   "cell_type": "code",
   "execution_count": 20,
   "metadata": {},
   "outputs": [
    {
     "name": "stdout",
     "output_type": "stream",
     "text": [
      "DADOS DA TABELA cidade EXCLUIDOS\n",
      "DADOS DA TABELA pesquisa EXCLUIDOS\n",
      "DADOS DA TABELA indicador EXCLUIDOS\n",
      "DADOS DA TABELA historico EXCLUIDOS\n"
     ]
    }
   ],
   "source": [
    "limpaDadosBanco('cidade')\n",
    "limpaDadosBanco('pesquisa')\n",
    "limpaDadosBanco('indicador')\n",
    "limpaDadosBanco('historico')"
   ]
  },
  {
   "cell_type": "code",
   "execution_count": 21,
   "metadata": {},
   "outputs": [],
   "source": [
    "salvaCidadeJson()\n",
    "cidades = lerCidadesJson()\n",
    "insereCidadesBanco(cidades)\n",
    "\n",
    "#Contagem de tempo\n",
    "cidadeTime = time.time()"
   ]
  },
  {
   "cell_type": "markdown",
   "metadata": {},
   "source": [
    "## Pesquisas\n",
    "* Recuperando pesquisas salvando num json\n",
    "* Lendo json salvando pesquisas num vetor\n",
    "* Adicionando pesquisas no banco"
   ]
  },
  {
   "cell_type": "code",
   "execution_count": 22,
   "metadata": {},
   "outputs": [],
   "source": [
    "salvaPesquisaJson()\n",
    "pesquisas = lerPesquisasJson()\n",
    "inserePesquisasBanco(pesquisas)\n",
    "\n",
    "#Contagem de tempo\n",
    "pesquisaTime = time.time()"
   ]
  },
  {
   "cell_type": "markdown",
   "metadata": {},
   "source": [
    "## Indicadores\n",
    "* Recuperando indicadoress salvando num json\n",
    "* Lendo json salvando indicadores num vetor\n",
    "* Adicionando indicadores no banco"
   ]
  },
  {
   "cell_type": "code",
   "execution_count": 23,
   "metadata": {},
   "outputs": [
    {
     "name": "stdout",
     "output_type": "stream",
     "text": [
      "A pesquisa 1 nao possui indicadores\n",
      "A pesquisa 24 nao possui indicadores\n",
      "A pesquisa 45 nao possui indicadores\n",
      "A pesquisa 10072 nao possui indicadores\n",
      "A pesquisa 10079 nao possui indicadores\n",
      "A pesquisa 10085 nao possui indicadores\n"
     ]
    }
   ],
   "source": [
    "salvaIndicadoresJson(pesquisas)\n",
    "indicadores = lerIndicadoresJson(pesquisas)\n",
    "insereIndicadoresBanco(indicadores)\n",
    "\n",
    "#Contagem de tempo\n",
    "indicadoresTime = time.time()"
   ]
  },
  {
   "cell_type": "markdown",
   "metadata": {},
   "source": [
    "## Histórico\n",
    "* Recuperando indicadoress a serem pesquisados do banco (Os indicadores a serem pesquisados estão em src/pesquisa/indicadores/indicarores.txt)\n",
    "* Recuperando historico e salvando num json em src/historico (o nome de cada json sera o id de cada cidade)\n",
    "* Lendo json dos historicos e salvando em um vetor\n",
    "* Adicionando o historico no banco"
   ]
  },
  {
   "cell_type": "code",
   "execution_count": 19,
   "metadata": {},
   "outputs": [],
   "source": [
    "cidades = lerCidadesJson()"
   ]
  },
  {
   "cell_type": "code",
   "execution_count": 26,
   "metadata": {},
   "outputs": [],
   "source": [
    "dfCidades = pd.DataFrame(cidades)"
   ]
  },
  {
   "cell_type": "code",
   "execution_count": 29,
   "metadata": {},
   "outputs": [
    {
     "data": {
      "text/html": [
       "<div>\n",
       "<style scoped>\n",
       "    .dataframe tbody tr th:only-of-type {\n",
       "        vertical-align: middle;\n",
       "    }\n",
       "\n",
       "    .dataframe tbody tr th {\n",
       "        vertical-align: top;\n",
       "    }\n",
       "\n",
       "    .dataframe thead th {\n",
       "        text-align: right;\n",
       "    }\n",
       "</style>\n",
       "<table border=\"1\" class=\"dataframe\">\n",
       "  <thead>\n",
       "    <tr style=\"text-align: right;\">\n",
       "      <th></th>\n",
       "      <th>0</th>\n",
       "      <th>1</th>\n",
       "    </tr>\n",
       "  </thead>\n",
       "  <tbody>\n",
       "    <tr>\n",
       "      <th>1938</th>\n",
       "      <td>2909307</td>\n",
       "      <td>Correntina</td>\n",
       "    </tr>\n",
       "  </tbody>\n",
       "</table>\n",
       "</div>"
      ],
      "text/plain": [
       "            0           1\n",
       "1938  2909307  Correntina"
      ]
     },
     "execution_count": 29,
     "metadata": {},
     "output_type": "execute_result"
    }
   ],
   "source": [
    "dfCidades[dfCidades[0] == 2909307]"
   ]
  },
  {
   "cell_type": "code",
   "execution_count": 32,
   "metadata": {},
   "outputs": [],
   "source": [
    "cidades = cidades[1938:]"
   ]
  },
  {
   "cell_type": "code",
   "execution_count": 34,
   "metadata": {},
   "outputs": [],
   "source": [
    "historico = lerHistoricoJson(cidades)"
   ]
  },
  {
   "cell_type": "code",
   "execution_count": 35,
   "metadata": {},
   "outputs": [],
   "source": [
    "# indicadoresASeremPesquisados = retornaIndicadoresASeremPesquisados()\n",
    "# salvaHistoricoParaCidadesJson(cidades,indicadoresASeremPesquisados)\n",
    "# historico = lerHistoricoJson(cidades)\n",
    "insereHistoricoBanco(historico)\n",
    "\n",
    "#Contagem de tempo\n",
    "# historicoTime = time.time()"
   ]
  },
  {
   "cell_type": "code",
   "execution_count": null,
   "metadata": {},
   "outputs": [],
   "source": [
    "#Contagem de tempo\n",
    "fimTime = time.time()"
   ]
  },
  {
   "cell_type": "code",
   "execution_count": null,
   "metadata": {},
   "outputs": [],
   "source": [
    "print(\"Tempo gasto total\"+str(fimTime - inicioTime))"
   ]
  }
 ],
 "metadata": {
  "kernelspec": {
   "display_name": "Python 3",
   "language": "python",
   "name": "python3"
  },
  "language_info": {
   "codemirror_mode": {
    "name": "ipython",
    "version": 3
   },
   "file_extension": ".py",
   "mimetype": "text/x-python",
   "name": "python",
   "nbconvert_exporter": "python",
   "pygments_lexer": "ipython3",
   "version": "3.7.3"
  }
 },
 "nbformat": 4,
 "nbformat_minor": 2
}
